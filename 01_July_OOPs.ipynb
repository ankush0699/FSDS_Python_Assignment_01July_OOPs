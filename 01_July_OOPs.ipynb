{
 "cells": [
  {
   "cell_type": "code",
   "execution_count": 16,
   "metadata": {},
   "outputs": [],
   "source": [
    "#Name : Ankush Shukla         #E-mail: ankushshukla0612@gmail.com\n",
    "\n",
    "# Assignment: 01_July_OOPs"
   ]
  },
  {
   "cell_type": "code",
   "execution_count": 17,
   "metadata": {},
   "outputs": [],
   "source": [
    "#Question_1: What is the primary goal of Object-Oriented Programming (OOP)?"
   ]
  },
  {
   "cell_type": "code",
   "execution_count": 18,
   "metadata": {},
   "outputs": [
    {
     "data": {
      "text/plain": [
       "'\\n   The primary goal of Object-Oriented Programming (OOP) is to design software in a way \\n   that models real-world entities and their interactions, emphasizing the organization of code around objects and their interactions.\\n\\n'"
      ]
     },
     "execution_count": 18,
     "metadata": {},
     "output_type": "execute_result"
    }
   ],
   "source": [
    "#Answer:  \n",
    "\n",
    "\"\"\"\n",
    "   The primary goal of Object-Oriented Programming (OOP) is to design software in a way \n",
    "   that models real-world entities and their interactions, emphasizing the organization of code around objects and their interactions.\n",
    "\n",
    "\"\"\""
   ]
  },
  {
   "cell_type": "code",
   "execution_count": 19,
   "metadata": {},
   "outputs": [],
   "source": [
    "#Question_2: What is an object in Python?"
   ]
  },
  {
   "cell_type": "code",
   "execution_count": 20,
   "metadata": {},
   "outputs": [
    {
     "data": {
      "text/plain": [
       "'\\n   An object is a fundamental concept that represents a real-world entity or a piece of data. \\n   Everything in Python is an object, including numbers, strings, functions, and even classes themselves. \\n   Objects are instances of classes, and classes define the blueprint or template for creating objects.\\n   \\n'"
      ]
     },
     "execution_count": 20,
     "metadata": {},
     "output_type": "execute_result"
    }
   ],
   "source": [
    "#Answer: \n",
    "\n",
    "\"\"\"\n",
    "   An object is a fundamental concept that represents a real-world entity or a piece of data. \n",
    "   Everything in Python is an object, including numbers, strings, functions, and even classes themselves. \n",
    "   Objects are instances of classes, and classes define the blueprint or template for creating objects.\n",
    "   \n",
    "\"\"\""
   ]
  },
  {
   "cell_type": "code",
   "execution_count": 21,
   "metadata": {},
   "outputs": [],
   "source": [
    "#Question_3:  What is a class in Python?"
   ]
  },
  {
   "cell_type": "code",
   "execution_count": 22,
   "metadata": {},
   "outputs": [
    {
     "data": {
      "text/plain": [
       "'\\nA class is a blueprint or template for creating objects (instances). It defines the structure and behavior that objects \\ncreated from the class will have. Classes are fundamental to object-oriented programming in Python and serve as a way to \\nencapsulate data and functionality into a single unit.\\n\\n'"
      ]
     },
     "execution_count": 22,
     "metadata": {},
     "output_type": "execute_result"
    }
   ],
   "source": [
    "#Answer:\n",
    "\"\"\"\n",
    "A class is a blueprint or template for creating objects (instances). It defines the structure and behavior that objects \n",
    "created from the class will have. Classes are fundamental to object-oriented programming in Python and serve as a way to \n",
    "encapsulate data and functionality into a single unit.\n",
    "\n",
    "\"\"\""
   ]
  },
  {
   "cell_type": "code",
   "execution_count": 23,
   "metadata": {},
   "outputs": [],
   "source": [
    "#Question_4:  What are attributes and methods in a class?"
   ]
  },
  {
   "cell_type": "code",
   "execution_count": 24,
   "metadata": {},
   "outputs": [
    {
     "data": {
      "text/plain": [
       "\"\\n\\nAttributes:\\n\\nAttributes are variables that store data associated with an object. They represent the characteristics or properties of the object.\\nThese variables are specific to each instance (object) of the class, meaning that each object can have its own set of attribute values.\\nAttributes are defined within the class and are accessed using dot notation with the object.\\nThey help describe the state of the object and can be initialized in the class's constructor (__init__ method) or set \\nand modified through other methods.\\n\\n\\n\\nMethods:\\n\\nMethods are functions defined within a class that define the behavior or actions that an object of that class can perform.\\nThey can operate on the attributes of the object and perform various tasks.\\nMethods are also specific to each instance, and they are invoked using dot notation with the object.\\nMethods can take parameters and return values, just like regular functions.\\n\\n\""
      ]
     },
     "execution_count": 24,
     "metadata": {},
     "output_type": "execute_result"
    }
   ],
   "source": [
    "#Answer:\n",
    "\n",
    "\"\"\"\n",
    "\n",
    "Attributes:\n",
    "\n",
    "Attributes are variables that store data associated with an object. They represent the characteristics or properties of the object.\n",
    "These variables are specific to each instance (object) of the class, meaning that each object can have its own set of attribute values.\n",
    "Attributes are defined within the class and are accessed using dot notation with the object.\n",
    "They help describe the state of the object and can be initialized in the class's constructor (__init__ method) or set \n",
    "and modified through other methods.\n",
    "\n",
    "\n",
    "\n",
    "Methods:\n",
    "\n",
    "Methods are functions defined within a class that define the behavior or actions that an object of that class can perform.\n",
    "They can operate on the attributes of the object and perform various tasks.\n",
    "Methods are also specific to each instance, and they are invoked using dot notation with the object.\n",
    "Methods can take parameters and return values, just like regular functions.\n",
    "\n",
    "\"\"\""
   ]
  },
  {
   "cell_type": "code",
   "execution_count": 25,
   "metadata": {},
   "outputs": [],
   "source": [
    "#Question_5:  What is the difference between class variables and instance variables in Python?"
   ]
  },
  {
   "cell_type": "code",
   "execution_count": 26,
   "metadata": {},
   "outputs": [
    {
     "data": {
      "text/plain": [
       "'\\n   Class variables are shared among all instances (objects) of a class. They have the same value for all objects of that class. \\n   When you modify a class variable, the change is reflected in all instances.\\n\\n    Instance variables are specific to each individual instance (object) of a class. Each instance can have its own set of \\n    instance variables with potentially different values. Changes to instance variables in one object do not affect the same variables in other objects.\\n'"
      ]
     },
     "execution_count": 26,
     "metadata": {},
     "output_type": "execute_result"
    }
   ],
   "source": [
    "#Answer:\n",
    "\n",
    "\"\"\"\n",
    "   Class variables are shared among all instances (objects) of a class. They have the same value for all objects of that class. \n",
    "   When you modify a class variable, the change is reflected in all instances.\n",
    "\n",
    "    Instance variables are specific to each individual instance (object) of a class. Each instance can have its own set of \n",
    "    instance variables with potentially different values. Changes to instance variables in one object do not affect the same variables in other objects.\n",
    "\"\"\""
   ]
  },
  {
   "cell_type": "code",
   "execution_count": 27,
   "metadata": {},
   "outputs": [],
   "source": [
    "#Question_6:  What is the purpose of the self parameter in Python class methods?"
   ]
  },
  {
   "cell_type": "code",
   "execution_count": 28,
   "metadata": {},
   "outputs": [
    {
     "data": {
      "text/plain": [
       "\"\\nThe self parameter serves several important purposes:\\n\\nInside class methods, we can use self to access and modify instance variables (also known as attributes) specific to the object\\non which the method is called. This allows us to work with the unique data associated with each instance.\\n\\nCalling Other Methods: We can call other instance methods within the class using self.method_name(). \\nThis allows methods to interact with each other and with the attributes of the object.\\n\\nCreating and Managing State: self is crucial for maintaining the state of an object. \\nIt ensures that we can store and retrieve data that's specific to the instance, as well as modify that data as needed.\\n\\n\""
      ]
     },
     "execution_count": 28,
     "metadata": {},
     "output_type": "execute_result"
    }
   ],
   "source": [
    "#Answer:\n",
    "\n",
    "\"\"\"\n",
    "The self parameter serves several important purposes:\n",
    "\n",
    "Inside class methods, we can use self to access and modify instance variables (also known as attributes) specific to the object\n",
    "on which the method is called. This allows us to work with the unique data associated with each instance.\n",
    "\n",
    "Calling Other Methods: We can call other instance methods within the class using self.method_name(). \n",
    "This allows methods to interact with each other and with the attributes of the object.\n",
    "\n",
    "Creating and Managing State: self is crucial for maintaining the state of an object. \n",
    "It ensures that we can store and retrieve data that's specific to the instance, as well as modify that data as needed.\n",
    "\n",
    "\"\"\""
   ]
  },
  {
   "cell_type": "code",
   "execution_count": 29,
   "metadata": {},
   "outputs": [],
   "source": [
    "#Question_7:  \n",
    "\n",
    "#     For a library management system, you have to design the \"Book\" class with OOP\n",
    "#     principles in mind. The “Book” class will have following attributes:\n",
    "#     a. title: Represents the title of the book.\n",
    "#     b. author: Represents the author(s) of the book.\n",
    "#     c. isbn: Represents the ISBN (International Standard Book Number) of the book.\n",
    "#     d. publication_year: Represents the year of publication of the book.\n",
    "#     e. available_copies: Represents the number of copies available for checkout.\n",
    "#     The class will also include the following methods:\n",
    "#     a. check_out(self): Decrements the available copies by one if there are copies\n",
    "#     available for checkout.\n",
    "#     b. return_book(self): Increments the available copies by one when a book is\n",
    "#     returned.\n",
    "#     c. display_book_info(self): Displays the information about the book, including its\n",
    "#     attributes and the number of available copies."
   ]
  },
  {
   "cell_type": "code",
   "execution_count": 30,
   "metadata": {},
   "outputs": [
    {
     "name": "stdout",
     "output_type": "stream",
     "text": [
      "Title: The Catcher in the Rye\n",
      "Author: J.D. Salinger\n",
      "ISBN: 978-0-316-76948-7\n",
      "Publication Year: 1951\n",
      "Available Copies: 5\n",
      "The Catcher in the Rye has been checked out.\n",
      "Thank you for returning The Catcher in the Rye.\n",
      "The Catcher in the Rye has been checked out.\n"
     ]
    }
   ],
   "source": [
    "#Answer:\n",
    "\n",
    "class Book:\n",
    "    def __init__(self, title, author, isbn, publication_year, available_copies):\n",
    "        self.title = title\n",
    "        self.author = author\n",
    "        self.isbn = isbn\n",
    "        self.publication_year = publication_year\n",
    "        self.available_copies = available_copies\n",
    "\n",
    "    def check_out(self):\n",
    "        if self.available_copies > 0:\n",
    "            self.available_copies -= 1\n",
    "            return f\"{self.title} has been checked out.\"\n",
    "        else:\n",
    "            return f\"Sorry, {self.title} is currently not available.\"\n",
    "\n",
    "    def return_book(self):\n",
    "        self.available_copies += 1\n",
    "        return f\"Thank you for returning {self.title}.\"\n",
    "\n",
    "    def display_book_info(self):\n",
    "        book_info = f\"Title: {self.title}\\nAuthor: {self.author}\\nISBN: {self.isbn}\\nPublication Year: {self.publication_year}\\nAvailable Copies: {self.available_copies}\"\n",
    "        return book_info\n",
    "\n",
    "book1 = Book(\"The Catcher in the Rye\", \"J.D. Salinger\", \"978-0-316-76948-7\", 1951, 5)\n",
    "print(book1.display_book_info())\n",
    "print(book1.check_out())\n",
    "print(book1.return_book())\n",
    "print(book1.check_out())\n"
   ]
  },
  {
   "cell_type": "code",
   "execution_count": 31,
   "metadata": {},
   "outputs": [
    {
     "data": {
      "text/plain": [
       "'\\n\\nFor a ticket booking system, you have to design the \"Ticket\" class with OOP\\nprinciples in mind. The “Ticket” class should have the following attributes:\\na. ticket_id: Represents the unique identifier for the ticket.\\nb. event_name: Represents the name of the event.\\nc. event_date: Represents the date of the event.\\nd. venue: Represents the venue of the event.\\ne. seat_number: Represents the seat number associated with the ticket.\\nf. price: Represents the price of the ticket.\\ng. is_reserved: Represents the reservation status of the ticket.\\nThe class also includes the following methods:\\na. reserve_ticket(self): Marks the ticket as reserved if it is not already reserved.\\nb. cancel_reservation(self): Cancels the reservation of the ticket if it is already\\nreserved.\\nc. display_ticket_info(self): Displays the information about the ticket, including its\\nattributes and reservation status.\\n\\n'"
      ]
     },
     "execution_count": 31,
     "metadata": {},
     "output_type": "execute_result"
    }
   ],
   "source": [
    "#Question_8:  \n",
    "\n",
    "\"\"\"\n",
    "\n",
    "For a ticket booking system, you have to design the \"Ticket\" class with OOP\n",
    "principles in mind. The “Ticket” class should have the following attributes:\n",
    "a. ticket_id: Represents the unique identifier for the ticket.\n",
    "b. event_name: Represents the name of the event.\n",
    "c. event_date: Represents the date of the event.\n",
    "d. venue: Represents the venue of the event.\n",
    "e. seat_number: Represents the seat number associated with the ticket.\n",
    "f. price: Represents the price of the ticket.\n",
    "g. is_reserved: Represents the reservation status of the ticket.\n",
    "The class also includes the following methods:\n",
    "a. reserve_ticket(self): Marks the ticket as reserved if it is not already reserved.\n",
    "b. cancel_reservation(self): Cancels the reservation of the ticket if it is already\n",
    "reserved.\n",
    "c. display_ticket_info(self): Displays the information about the ticket, including its\n",
    "attributes and reservation status.\n",
    "\n",
    "\"\"\""
   ]
  },
  {
   "cell_type": "code",
   "execution_count": 32,
   "metadata": {},
   "outputs": [
    {
     "name": "stdout",
     "output_type": "stream",
     "text": [
      "Ticket ID: 1\n",
      "Event Name: Concert\n",
      "Event Date: 2023-10-20\n",
      "Venue: Music Hall\n",
      "Seat Number: A12\n",
      "Price: $50.0\n",
      "Reserved: No\n",
      "Ticket 1 has been reserved.\n",
      "Reservation for Ticket 1 has been canceled.\n",
      "Ticket 1 has been reserved.\n"
     ]
    }
   ],
   "source": [
    "class Ticket:\n",
    "    def __init__(self, ticket_id, event_name, event_date, venue, seat_number, price, is_reserved=False):\n",
    "        self.ticket_id = ticket_id\n",
    "        self.event_name = event_name\n",
    "        self.event_date = event_date\n",
    "        self.venue = venue\n",
    "        self.seat_number = seat_number\n",
    "        self.price = price\n",
    "        self.is_reserved = is_reserved\n",
    "\n",
    "    def reserve_ticket(self):\n",
    "        if not self.is_reserved:\n",
    "            self.is_reserved = True\n",
    "            return f\"Ticket {self.ticket_id} has been reserved.\"\n",
    "        else:\n",
    "            return f\"Ticket {self.ticket_id} is already reserved.\"\n",
    "\n",
    "    def cancel_reservation(self):\n",
    "        if self.is_reserved:\n",
    "            self.is_reserved = False\n",
    "            return f\"Reservation for Ticket {self.ticket_id} has been canceled.\"\n",
    "        else:\n",
    "            return f\"Ticket {self.ticket_id} is not reserved.\"\n",
    "\n",
    "    def display_ticket_info(self):\n",
    "        ticket_info = f\"Ticket ID: {self.ticket_id}\\nEvent Name: {self.event_name}\\nEvent Date: {self.event_date}\\nVenue: {self.venue}\\nSeat Number: {self.seat_number}\\nPrice: ${self.price}\\nReserved: {'Yes' if self.is_reserved else 'No'}\"\n",
    "        return ticket_info\n",
    "\n",
    "ticket1 = Ticket(1, \"Concert\", \"2023-10-20\", \"Music Hall\", \"A12\", 50.0)\n",
    "print(ticket1.display_ticket_info())\n",
    "print(ticket1.reserve_ticket())\n",
    "print(ticket1.cancel_reservation())\n",
    "print(ticket1.reserve_ticket())\n"
   ]
  },
  {
   "cell_type": "code",
   "execution_count": 33,
   "metadata": {},
   "outputs": [
    {
     "data": {
      "text/plain": [
       "'\\nYou are creating a shopping cart for an e-commerce website. Using OOP to model\\nthe \"ShoppingCart\" functionality the class should contain following attributes and\\nmethods:\\na. items: Represents the list of items in the shopping cart.\\nThe class also includes the following methods:\\n\\na. add_item(self, item): Adds an item to the shopping cart by appending it to the\\nlist of items.\\nb. remove_item(self, item): Removes an item from the shopping cart if it exists in\\nthe list.\\nc. view_cart(self): Displays the items currently present in the shopping cart.\\nd. clear_cart(self): Clears all items from the shopping cart by reassigning an\\nempty list to the items attribute.\\n\\n'"
      ]
     },
     "execution_count": 33,
     "metadata": {},
     "output_type": "execute_result"
    }
   ],
   "source": [
    "#Question_9:  \n",
    "\n",
    "\"\"\"\n",
    "You are creating a shopping cart for an e-commerce website. Using OOP to model\n",
    "the \"ShoppingCart\" functionality the class should contain following attributes and\n",
    "methods:\n",
    "a. items: Represents the list of items in the shopping cart.\n",
    "The class also includes the following methods:\n",
    "\n",
    "a. add_item(self, item): Adds an item to the shopping cart by appending it to the\n",
    "list of items.\n",
    "b. remove_item(self, item): Removes an item from the shopping cart if it exists in\n",
    "the list.\n",
    "c. view_cart(self): Displays the items currently present in the shopping cart.\n",
    "d. clear_cart(self): Clears all items from the shopping cart by reassigning an\n",
    "empty list to the items attribute.\n",
    "\n",
    "\"\"\""
   ]
  },
  {
   "cell_type": "code",
   "execution_count": 34,
   "metadata": {},
   "outputs": [
    {
     "name": "stdout",
     "output_type": "stream",
     "text": [
      "Product 1 has been added to the shopping cart.\n",
      "Product 2 has been added to the shopping cart.\n",
      "Items in the shopping cart:\n",
      "Product 1\n",
      "Product 2\n",
      "Product 1 has been removed from the shopping cart.\n",
      "Items in the shopping cart:\n",
      "Product 2\n",
      "The shopping cart has been cleared.\n",
      "The shopping cart is empty.\n"
     ]
    }
   ],
   "source": [
    "class ShoppingCart:\n",
    "    def __init__(self):\n",
    "        self.items = []\n",
    "\n",
    "    def add_item(self, item):\n",
    "        self.items.append(item)\n",
    "        return f\"{item} has been added to the shopping cart.\"\n",
    "\n",
    "    def remove_item(self, item):\n",
    "        if item in self.items:\n",
    "            self.items.remove(item)\n",
    "            return f\"{item} has been removed from the shopping cart.\"\n",
    "        else:\n",
    "            return f\"{item} is not in the shopping cart.\"\n",
    "\n",
    "    def view_cart(self):\n",
    "        if not self.items:\n",
    "            return \"The shopping cart is empty.\"\n",
    "        else:\n",
    "            cart_contents = \"\\n\".join(self.items)\n",
    "            return f\"Items in the shopping cart:\\n{cart_contents}\"\n",
    "\n",
    "    def clear_cart(self):\n",
    "        self.items.clear()\n",
    "        return \"The shopping cart has been cleared.\"\n",
    "\n",
    "cart = ShoppingCart()\n",
    "print(cart.add_item(\"Product 1\"))\n",
    "print(cart.add_item(\"Product 2\"))\n",
    "print(cart.view_cart())\n",
    "print(cart.remove_item(\"Product 1\"))\n",
    "print(cart.view_cart())\n",
    "print(cart.clear_cart())\n",
    "print(cart.view_cart())\n"
   ]
  },
  {
   "cell_type": "code",
   "execution_count": 35,
   "metadata": {},
   "outputs": [
    {
     "data": {
      "text/plain": [
       "'\\nImagine a school management system. You have to design the \"Student\" class using\\nOOP concepts.The “Student” class has the following attributes:\\na. name: Represents the name of the student.\\nb. age: Represents the age of the student.\\nc. grade: Represents the grade or class of the student.\\nd. student_id: Represents the unique identifier for the student.\\ne. attendance: Represents the attendance record of the student.\\nThe class should also include the following methods:\\na. update_attendance(self, date, status): Updates the attendance record of the\\nstudent for a given date with the provided status (e.g., present or absent).\\nb. get_attendance(self): Returns the attendance record of the student.\\nc. get_average_attendance(self): Calculates and returns the average\\nattendance percentage of the student based on their attendance record.\\n\\n'"
      ]
     },
     "execution_count": 35,
     "metadata": {},
     "output_type": "execute_result"
    }
   ],
   "source": [
    "#Question_10:  \n",
    "\n",
    "\"\"\"\n",
    "Imagine a school management system. You have to design the \"Student\" class using\n",
    "OOP concepts.The “Student” class has the following attributes:\n",
    "a. name: Represents the name of the student.\n",
    "b. age: Represents the age of the student.\n",
    "c. grade: Represents the grade or class of the student.\n",
    "d. student_id: Represents the unique identifier for the student.\n",
    "e. attendance: Represents the attendance record of the student.\n",
    "The class should also include the following methods:\n",
    "a. update_attendance(self, date, status): Updates the attendance record of the\n",
    "student for a given date with the provided status (e.g., present or absent).\n",
    "b. get_attendance(self): Returns the attendance record of the student.\n",
    "c. get_average_attendance(self): Calculates and returns the average\n",
    "attendance percentage of the student based on their attendance record.\n",
    "\n",
    "\"\"\""
   ]
  },
  {
   "cell_type": "code",
   "execution_count": 36,
   "metadata": {},
   "outputs": [
    {
     "name": "stdout",
     "output_type": "stream",
     "text": [
      "Attendance for 2023-10-15 has been updated: present\n",
      "Attendance for 2023-10-16 has been updated: absent\n",
      "{'2023-10-15': 'present', '2023-10-16': 'absent'}\n",
      "Average Attendance: 50.00%\n"
     ]
    }
   ],
   "source": [
    "class Student:\n",
    "    def __init__(self, name, age, grade, student_id):\n",
    "        self.name = name\n",
    "        self.age = age\n",
    "        self.grade = grade\n",
    "        self.student_id = student_id\n",
    "        self.attendance = {} \n",
    "\n",
    "    def update_attendance(self, date, status):\n",
    "        if status.lower() in [\"present\", \"absent\"]:\n",
    "            self.attendance[date] = status\n",
    "            return f\"Attendance for {date} has been updated: {status}\"\n",
    "        else:\n",
    "            return \"Invalid attendance status. Use 'present' or 'absent'.\"\n",
    "\n",
    "    def get_attendance(self):\n",
    "        return self.attendance\n",
    "\n",
    "    def get_average_attendance(self):\n",
    "        if not self.attendance:\n",
    "            return \"No attendance records available.\"\n",
    "        \n",
    "        total_days = len(self.attendance)\n",
    "        present_days = sum(1 for status in self.attendance.values() if status == \"present\")\n",
    "        average_percentage = (present_days / total_days) * 100\n",
    "        return f\"Average Attendance: {average_percentage:.2f}%\"\n",
    "\n",
    "student1 = Student(\"Alice\", 16, 10, \"S12345\")\n",
    "print(student1.update_attendance(\"2023-10-15\", \"present\"))\n",
    "print(student1.update_attendance(\"2023-10-16\", \"absent\"))\n",
    "print(student1.get_attendance())\n",
    "print(student1.get_average_attendance())\n"
   ]
  }
 ],
 "metadata": {
  "kernelspec": {
   "display_name": "base",
   "language": "python",
   "name": "python3"
  },
  "language_info": {
   "codemirror_mode": {
    "name": "ipython",
    "version": 3
   },
   "file_extension": ".py",
   "mimetype": "text/x-python",
   "name": "python",
   "nbconvert_exporter": "python",
   "pygments_lexer": "ipython3",
   "version": "3.11.4"
  }
 },
 "nbformat": 4,
 "nbformat_minor": 2
}
